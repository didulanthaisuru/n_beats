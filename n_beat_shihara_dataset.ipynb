{
  "cells": [
    {
      "cell_type": "markdown",
      "metadata": {
        "id": "view-in-github",
        "colab_type": "text"
      },
      "source": [
        "<a href=\"https://colab.research.google.com/github/didulanthaisuru/n_beats/blob/main/n_beat_shihara_dataset.ipynb\" target=\"_parent\"><img src=\"https://colab.research.google.com/assets/colab-badge.svg\" alt=\"Open In Colab\"/></a>"
      ]
    },
    {
      "cell_type": "code",
      "execution_count": null,
      "metadata": {
        "colab": {
          "base_uri": "https://localhost:8080/"
        },
        "id": "OVzRYrRt8SbK",
        "outputId": "c381c2ae-1b1f-4c33-a9ba-186bf7f47de9"
      },
      "outputs": [
        {
          "name": "stdout",
          "output_type": "stream",
          "text": [
            "Drive already mounted at /content/drive; to attempt to forcibly remount, call drive.mount(\"/content/drive\", force_remount=True).\n",
            "['lstm.ipynb', 'cluster3_payments_only.csv', 'n_beats.ipynb', '.ipynb_checkpoints', 'n_beats_for_cluster threeipynb.ipynb', 'dataset_with_zeros.csv', 'colab_n_beats_modarate.ipynb', 'Untitled0.ipynb', 'nadil_category_expenses.xlsx', 'Untitled1.ipynb', 'n_beats_balance.xlsx', 'n_beats_balace_prediction.ipynb', 'n_beats_final.ipynb', 'Untitled2.ipynb', 'n_beats_split_data_testing.ipynb', 'n_beat_with_testing.ipynb', 'intepretable_nbeats.ipynb', 'n_beat_new_with_interpritable.ipynb', 'n_beats_shihara_balance.xlsx', 'n_beat_shihara_dataset.ipynb']\n"
          ]
        }
      ],
      "source": [
        "import os\n",
        "from google.colab import drive\n",
        "drive.mount('/content/drive')\n",
        "sample_data_path = '/content/drive/MyDrive/Colab Notebooks'\n",
        "files=os.listdir(sample_data_path)\n",
        "print(files)"
      ]
    },
    {
      "cell_type": "code",
      "execution_count": null,
      "metadata": {
        "colab": {
          "background_save": true
        },
        "id": "xE9AQmhs97QP"
      },
      "outputs": [],
      "source": [
        "ff='/content/drive/MyDrive/Colab Notebooks/n_beats_shihara_balance.xlsx'"
      ]
    },
    {
      "cell_type": "code",
      "execution_count": null,
      "metadata": {
        "id": "pC8w9KHE_TeT"
      },
      "outputs": [],
      "source": [
        "import pandas as pd\n",
        "df=pd.read_excel(ff,engine='openpyxl')"
      ]
    },
    {
      "cell_type": "code",
      "execution_count": null,
      "metadata": {
        "colab": {
          "base_uri": "https://localhost:8080/"
        },
        "id": "3nQRjcRF_W94",
        "outputId": "8a2faa08-e580-4ece-9abe-23dbe1fcc920"
      },
      "outputs": [
        {
          "name": "stdout",
          "output_type": "stream",
          "text": [
            "        Date  Normalized_Balance\n",
            "0 2022-12-27            0.053204\n",
            "1 2022-12-28            0.021208\n",
            "2 2022-12-29            0.021208\n",
            "3 2022-12-30            0.021474\n",
            "4 2022-12-31            0.021474\n",
            "Date                  datetime64[ns]\n",
            "Normalized_Balance           float64\n",
            "dtype: object\n"
          ]
        }
      ],
      "source": [
        "print(df.head())\n",
        "print(df.dtypes)"
      ]
    },
    {
      "cell_type": "code",
      "execution_count": null,
      "metadata": {
        "id": "4H79hXf2_fRO"
      },
      "outputs": [],
      "source": [
        "df[\"Date\"]=pd.to_datetime(df[\"Date\"])"
      ]
    },
    {
      "cell_type": "code",
      "execution_count": null,
      "metadata": {
        "colab": {
          "base_uri": "https://localhost:8080/"
        },
        "id": "eH5T73aVApWo",
        "outputId": "671870be-30f1-47bc-e815-899e1817b754"
      },
      "outputs": [
        {
          "name": "stdout",
          "output_type": "stream",
          "text": [
            "Collecting pytorch_forecasting\n",
            "  Downloading pytorch_forecasting-1.3.0-py3-none-any.whl.metadata (13 kB)\n",
            "\u001b[31mERROR: Ignored the following versions that require a different python version: 0.10.2 Requires-Python >=3.8,<3.11; 0.10.3 Requires-Python >=3.8,<3.11; 1.0.0 Requires-Python >=3.8,<3.11\u001b[0m\u001b[31m\n",
            "\u001b[0m\u001b[31mERROR: Could not find a version that satisfies the requirement pytorch_lighning (from versions: none)\u001b[0m\u001b[31m\n",
            "\u001b[0m\u001b[31mERROR: No matching distribution found for pytorch_lighning\u001b[0m\u001b[31m\n",
            "\u001b[0mCollecting NeuralForecast\n",
            "  Downloading neuralforecast-3.0.0-py3-none-any.whl.metadata (14 kB)\n",
            "Collecting coreforecast>=0.0.6 (from NeuralForecast)\n",
            "  Downloading coreforecast-0.0.16-cp311-cp311-manylinux_2_17_x86_64.manylinux2014_x86_64.whl.metadata (3.7 kB)\n",
            "Requirement already satisfied: fsspec in /usr/local/lib/python3.11/dist-packages (from NeuralForecast) (2025.3.2)\n",
            "Requirement already satisfied: numpy>=1.21.6 in /usr/local/lib/python3.11/dist-packages (from NeuralForecast) (2.0.2)\n",
            "Requirement already satisfied: pandas>=1.3.5 in /usr/local/lib/python3.11/dist-packages (from NeuralForecast) (2.2.2)\n",
            "Requirement already satisfied: torch>=2.0.0 in /usr/local/lib/python3.11/dist-packages (from NeuralForecast) (2.6.0+cu124)\n",
            "Collecting pytorch-lightning>=2.0.0 (from NeuralForecast)\n",
            "  Downloading pytorch_lightning-2.5.1.post0-py3-none-any.whl.metadata (20 kB)\n",
            "Collecting ray>=2.2.0 (from ray[tune]>=2.2.0->NeuralForecast)\n",
            "  Downloading ray-2.45.0-cp311-cp311-manylinux2014_x86_64.whl.metadata (19 kB)\n",
            "Collecting optuna (from NeuralForecast)\n",
            "  Downloading optuna-4.3.0-py3-none-any.whl.metadata (17 kB)\n",
            "Collecting utilsforecast>=0.2.3 (from NeuralForecast)\n",
            "  Downloading utilsforecast-0.2.12-py3-none-any.whl.metadata (7.6 kB)\n",
            "Requirement already satisfied: python-dateutil>=2.8.2 in /usr/local/lib/python3.11/dist-packages (from pandas>=1.3.5->NeuralForecast) (2.9.0.post0)\n",
            "Requirement already satisfied: pytz>=2020.1 in /usr/local/lib/python3.11/dist-packages (from pandas>=1.3.5->NeuralForecast) (2025.2)\n",
            "Requirement already satisfied: tzdata>=2022.7 in /usr/local/lib/python3.11/dist-packages (from pandas>=1.3.5->NeuralForecast) (2025.2)\n",
            "Requirement already satisfied: tqdm>=4.57.0 in /usr/local/lib/python3.11/dist-packages (from pytorch-lightning>=2.0.0->NeuralForecast) (4.67.1)\n",
            "Requirement already satisfied: PyYAML>=5.4 in /usr/local/lib/python3.11/dist-packages (from pytorch-lightning>=2.0.0->NeuralForecast) (6.0.2)\n",
            "Collecting torchmetrics>=0.7.0 (from pytorch-lightning>=2.0.0->NeuralForecast)\n",
            "  Downloading torchmetrics-1.7.1-py3-none-any.whl.metadata (21 kB)\n",
            "Requirement already satisfied: packaging>=20.0 in /usr/local/lib/python3.11/dist-packages (from pytorch-lightning>=2.0.0->NeuralForecast) (24.2)\n",
            "Requirement already satisfied: typing-extensions>=4.4.0 in /usr/local/lib/python3.11/dist-packages (from pytorch-lightning>=2.0.0->NeuralForecast) (4.13.2)\n",
            "Collecting lightning-utilities>=0.10.0 (from pytorch-lightning>=2.0.0->NeuralForecast)\n",
            "  Downloading lightning_utilities-0.14.3-py3-none-any.whl.metadata (5.6 kB)\n",
            "Requirement already satisfied: click>=7.0 in /usr/local/lib/python3.11/dist-packages (from ray>=2.2.0->ray[tune]>=2.2.0->NeuralForecast) (8.1.8)\n",
            "Requirement already satisfied: filelock in /usr/local/lib/python3.11/dist-packages (from ray>=2.2.0->ray[tune]>=2.2.0->NeuralForecast) (3.18.0)\n",
            "Requirement already satisfied: jsonschema in /usr/local/lib/python3.11/dist-packages (from ray>=2.2.0->ray[tune]>=2.2.0->NeuralForecast) (4.23.0)\n",
            "Requirement already satisfied: msgpack<2.0.0,>=1.0.0 in /usr/local/lib/python3.11/dist-packages (from ray>=2.2.0->ray[tune]>=2.2.0->NeuralForecast) (1.1.0)\n",
            "Requirement already satisfied: protobuf!=3.19.5,>=3.15.3 in /usr/local/lib/python3.11/dist-packages (from ray>=2.2.0->ray[tune]>=2.2.0->NeuralForecast) (5.29.4)\n",
            "Requirement already satisfied: requests in /usr/local/lib/python3.11/dist-packages (from ray>=2.2.0->ray[tune]>=2.2.0->NeuralForecast) (2.32.3)\n",
            "Collecting tensorboardX>=1.9 (from ray[tune]>=2.2.0->NeuralForecast)\n",
            "  Downloading tensorboardX-2.6.2.2-py2.py3-none-any.whl.metadata (5.8 kB)\n",
            "Requirement already satisfied: pyarrow>=9.0.0 in /usr/local/lib/python3.11/dist-packages (from ray[tune]>=2.2.0->NeuralForecast) (18.1.0)\n",
            "Requirement already satisfied: networkx in /usr/local/lib/python3.11/dist-packages (from torch>=2.0.0->NeuralForecast) (3.4.2)\n",
            "Requirement already satisfied: jinja2 in /usr/local/lib/python3.11/dist-packages (from torch>=2.0.0->NeuralForecast) (3.1.6)\n",
            "Collecting nvidia-cuda-nvrtc-cu12==12.4.127 (from torch>=2.0.0->NeuralForecast)\n",
            "  Downloading nvidia_cuda_nvrtc_cu12-12.4.127-py3-none-manylinux2014_x86_64.whl.metadata (1.5 kB)\n",
            "Collecting nvidia-cuda-runtime-cu12==12.4.127 (from torch>=2.0.0->NeuralForecast)\n",
            "  Downloading nvidia_cuda_runtime_cu12-12.4.127-py3-none-manylinux2014_x86_64.whl.metadata (1.5 kB)\n",
            "Collecting nvidia-cuda-cupti-cu12==12.4.127 (from torch>=2.0.0->NeuralForecast)\n",
            "  Downloading nvidia_cuda_cupti_cu12-12.4.127-py3-none-manylinux2014_x86_64.whl.metadata (1.6 kB)\n",
            "Collecting nvidia-cudnn-cu12==9.1.0.70 (from torch>=2.0.0->NeuralForecast)\n",
            "  Downloading nvidia_cudnn_cu12-9.1.0.70-py3-none-manylinux2014_x86_64.whl.metadata (1.6 kB)\n",
            "Collecting nvidia-cublas-cu12==12.4.5.8 (from torch>=2.0.0->NeuralForecast)\n",
            "  Downloading nvidia_cublas_cu12-12.4.5.8-py3-none-manylinux2014_x86_64.whl.metadata (1.5 kB)\n",
            "Collecting nvidia-cufft-cu12==11.2.1.3 (from torch>=2.0.0->NeuralForecast)\n",
            "  Downloading nvidia_cufft_cu12-11.2.1.3-py3-none-manylinux2014_x86_64.whl.metadata (1.5 kB)\n",
            "Collecting nvidia-curand-cu12==10.3.5.147 (from torch>=2.0.0->NeuralForecast)\n",
            "  Downloading nvidia_curand_cu12-10.3.5.147-py3-none-manylinux2014_x86_64.whl.metadata (1.5 kB)\n",
            "Collecting nvidia-cusolver-cu12==11.6.1.9 (from torch>=2.0.0->NeuralForecast)\n",
            "  Downloading nvidia_cusolver_cu12-11.6.1.9-py3-none-manylinux2014_x86_64.whl.metadata (1.6 kB)\n",
            "Collecting nvidia-cusparse-cu12==12.3.1.170 (from torch>=2.0.0->NeuralForecast)\n",
            "  Downloading nvidia_cusparse_cu12-12.3.1.170-py3-none-manylinux2014_x86_64.whl.metadata (1.6 kB)\n",
            "Requirement already satisfied: nvidia-cusparselt-cu12==0.6.2 in /usr/local/lib/python3.11/dist-packages (from torch>=2.0.0->NeuralForecast) (0.6.2)\n",
            "Requirement already satisfied: nvidia-nccl-cu12==2.21.5 in /usr/local/lib/python3.11/dist-packages (from torch>=2.0.0->NeuralForecast) (2.21.5)\n",
            "Requirement already satisfied: nvidia-nvtx-cu12==12.4.127 in /usr/local/lib/python3.11/dist-packages (from torch>=2.0.0->NeuralForecast) (12.4.127)\n",
            "Collecting nvidia-nvjitlink-cu12==12.4.127 (from torch>=2.0.0->NeuralForecast)\n",
            "  Downloading nvidia_nvjitlink_cu12-12.4.127-py3-none-manylinux2014_x86_64.whl.metadata (1.5 kB)\n",
            "Requirement already satisfied: triton==3.2.0 in /usr/local/lib/python3.11/dist-packages (from torch>=2.0.0->NeuralForecast) (3.2.0)\n",
            "Requirement already satisfied: sympy==1.13.1 in /usr/local/lib/python3.11/dist-packages (from torch>=2.0.0->NeuralForecast) (1.13.1)\n",
            "Requirement already satisfied: mpmath<1.4,>=1.1.0 in /usr/local/lib/python3.11/dist-packages (from sympy==1.13.1->torch>=2.0.0->NeuralForecast) (1.3.0)\n",
            "Collecting alembic>=1.5.0 (from optuna->NeuralForecast)\n",
            "  Downloading alembic-1.15.2-py3-none-any.whl.metadata (7.3 kB)\n",
            "Collecting colorlog (from optuna->NeuralForecast)\n",
            "  Downloading colorlog-6.9.0-py3-none-any.whl.metadata (10 kB)\n",
            "Requirement already satisfied: sqlalchemy>=1.4.2 in /usr/local/lib/python3.11/dist-packages (from optuna->NeuralForecast) (2.0.40)\n",
            "Requirement already satisfied: Mako in /usr/lib/python3/dist-packages (from alembic>=1.5.0->optuna->NeuralForecast) (1.1.3)\n",
            "Requirement already satisfied: aiohttp!=4.0.0a0,!=4.0.0a1 in /usr/local/lib/python3.11/dist-packages (from fsspec[http]>=2022.5.0->pytorch-lightning>=2.0.0->NeuralForecast) (3.11.15)\n",
            "Requirement already satisfied: setuptools in /usr/local/lib/python3.11/dist-packages (from lightning-utilities>=0.10.0->pytorch-lightning>=2.0.0->NeuralForecast) (75.2.0)\n",
            "Requirement already satisfied: six>=1.5 in /usr/local/lib/python3.11/dist-packages (from python-dateutil>=2.8.2->pandas>=1.3.5->NeuralForecast) (1.17.0)\n",
            "Requirement already satisfied: greenlet>=1 in /usr/local/lib/python3.11/dist-packages (from sqlalchemy>=1.4.2->optuna->NeuralForecast) (3.2.1)\n",
            "Requirement already satisfied: MarkupSafe>=2.0 in /usr/local/lib/python3.11/dist-packages (from jinja2->torch>=2.0.0->NeuralForecast) (3.0.2)\n",
            "Requirement already satisfied: attrs>=22.2.0 in /usr/local/lib/python3.11/dist-packages (from jsonschema->ray>=2.2.0->ray[tune]>=2.2.0->NeuralForecast) (25.3.0)\n",
            "Requirement already satisfied: jsonschema-specifications>=2023.03.6 in /usr/local/lib/python3.11/dist-packages (from jsonschema->ray>=2.2.0->ray[tune]>=2.2.0->NeuralForecast) (2025.4.1)\n",
            "Requirement already satisfied: referencing>=0.28.4 in /usr/local/lib/python3.11/dist-packages (from jsonschema->ray>=2.2.0->ray[tune]>=2.2.0->NeuralForecast) (0.36.2)\n",
            "Requirement already satisfied: rpds-py>=0.7.1 in /usr/local/lib/python3.11/dist-packages (from jsonschema->ray>=2.2.0->ray[tune]>=2.2.0->NeuralForecast) (0.24.0)\n",
            "Requirement already satisfied: charset-normalizer<4,>=2 in /usr/local/lib/python3.11/dist-packages (from requests->ray>=2.2.0->ray[tune]>=2.2.0->NeuralForecast) (3.4.1)\n",
            "Requirement already satisfied: idna<4,>=2.5 in /usr/local/lib/python3.11/dist-packages (from requests->ray>=2.2.0->ray[tune]>=2.2.0->NeuralForecast) (3.10)\n",
            "Requirement already satisfied: urllib3<3,>=1.21.1 in /usr/local/lib/python3.11/dist-packages (from requests->ray>=2.2.0->ray[tune]>=2.2.0->NeuralForecast) (2.4.0)\n",
            "Requirement already satisfied: certifi>=2017.4.17 in /usr/local/lib/python3.11/dist-packages (from requests->ray>=2.2.0->ray[tune]>=2.2.0->NeuralForecast) (2025.4.26)\n",
            "Requirement already satisfied: aiohappyeyeballs>=2.3.0 in /usr/local/lib/python3.11/dist-packages (from aiohttp!=4.0.0a0,!=4.0.0a1->fsspec[http]>=2022.5.0->pytorch-lightning>=2.0.0->NeuralForecast) (2.6.1)\n",
            "Requirement already satisfied: aiosignal>=1.1.2 in /usr/local/lib/python3.11/dist-packages (from aiohttp!=4.0.0a0,!=4.0.0a1->fsspec[http]>=2022.5.0->pytorch-lightning>=2.0.0->NeuralForecast) (1.3.2)\n",
            "Requirement already satisfied: frozenlist>=1.1.1 in /usr/local/lib/python3.11/dist-packages (from aiohttp!=4.0.0a0,!=4.0.0a1->fsspec[http]>=2022.5.0->pytorch-lightning>=2.0.0->NeuralForecast) (1.6.0)\n",
            "Requirement already satisfied: multidict<7.0,>=4.5 in /usr/local/lib/python3.11/dist-packages (from aiohttp!=4.0.0a0,!=4.0.0a1->fsspec[http]>=2022.5.0->pytorch-lightning>=2.0.0->NeuralForecast) (6.4.3)\n",
            "Requirement already satisfied: propcache>=0.2.0 in /usr/local/lib/python3.11/dist-packages (from aiohttp!=4.0.0a0,!=4.0.0a1->fsspec[http]>=2022.5.0->pytorch-lightning>=2.0.0->NeuralForecast) (0.3.1)\n",
            "Requirement already satisfied: yarl<2.0,>=1.17.0 in /usr/local/lib/python3.11/dist-packages (from aiohttp!=4.0.0a0,!=4.0.0a1->fsspec[http]>=2022.5.0->pytorch-lightning>=2.0.0->NeuralForecast) (1.20.0)\n",
            "Downloading neuralforecast-3.0.0-py3-none-any.whl (257 kB)\n",
            "\u001b[2K   \u001b[90m━━━━━━━━━━━━━━━━━━━━━━━━━━━━━━━━━━━━━━━━\u001b[0m \u001b[32m257.7/257.7 kB\u001b[0m \u001b[31m7.9 MB/s\u001b[0m eta \u001b[36m0:00:00\u001b[0m\n",
            "\u001b[?25hDownloading coreforecast-0.0.16-cp311-cp311-manylinux_2_17_x86_64.manylinux2014_x86_64.whl (285 kB)\n",
            "\u001b[2K   \u001b[90m━━━━━━━━━━━━━━━━━━━━━━━━━━━━━━━━━━━━━━━━\u001b[0m \u001b[32m285.8/285.8 kB\u001b[0m \u001b[31m17.6 MB/s\u001b[0m eta \u001b[36m0:00:00\u001b[0m\n",
            "\u001b[?25hDownloading pytorch_lightning-2.5.1.post0-py3-none-any.whl (823 kB)\n",
            "\u001b[2K   \u001b[90m━━━━━━━━━━━━━━━━━━━━━━━━━━━━━━━━━━━━━━━━\u001b[0m \u001b[32m823.1/823.1 kB\u001b[0m \u001b[31m34.6 MB/s\u001b[0m eta \u001b[36m0:00:00\u001b[0m\n",
            "\u001b[?25hDownloading ray-2.45.0-cp311-cp311-manylinux2014_x86_64.whl (68.4 MB)\n",
            "\u001b[2K   \u001b[90m━━━━━━━━━━━━━━━━━━━━━━━━━━━━━━━━━━━━━━━━\u001b[0m \u001b[32m68.4/68.4 MB\u001b[0m \u001b[31m9.2 MB/s\u001b[0m eta \u001b[36m0:00:00\u001b[0m\n",
            "\u001b[?25hDownloading nvidia_cublas_cu12-12.4.5.8-py3-none-manylinux2014_x86_64.whl (363.4 MB)\n",
            "\u001b[2K   \u001b[90m━━━━━━━━━━━━━━━━━━━━━━━━━━━━━━━━━━━━━━━━\u001b[0m \u001b[32m363.4/363.4 MB\u001b[0m \u001b[31m1.4 MB/s\u001b[0m eta \u001b[36m0:00:00\u001b[0m\n",
            "\u001b[?25hDownloading nvidia_cuda_cupti_cu12-12.4.127-py3-none-manylinux2014_x86_64.whl (13.8 MB)\n",
            "\u001b[2K   \u001b[90m━━━━━━━━━━━━━━━━━━━━━━━━━━━━━━━━━━━━━━━━\u001b[0m \u001b[32m13.8/13.8 MB\u001b[0m \u001b[31m77.4 MB/s\u001b[0m eta \u001b[36m0:00:00\u001b[0m\n",
            "\u001b[?25hDownloading nvidia_cuda_nvrtc_cu12-12.4.127-py3-none-manylinux2014_x86_64.whl (24.6 MB)\n",
            "\u001b[2K   \u001b[90m━━━━━━━━━━━━━━━━━━━━━━━━━━━━━━━━━━━━━━━━\u001b[0m \u001b[32m24.6/24.6 MB\u001b[0m \u001b[31m65.7 MB/s\u001b[0m eta \u001b[36m0:00:00\u001b[0m\n",
            "\u001b[?25hDownloading nvidia_cuda_runtime_cu12-12.4.127-py3-none-manylinux2014_x86_64.whl (883 kB)\n",
            "\u001b[2K   \u001b[90m━━━━━━━━━━━━━━━━━━━━━━━━━━━━━━━━━━━━━━━━\u001b[0m \u001b[32m883.7/883.7 kB\u001b[0m \u001b[31m38.8 MB/s\u001b[0m eta \u001b[36m0:00:00\u001b[0m\n",
            "\u001b[?25hDownloading nvidia_cudnn_cu12-9.1.0.70-py3-none-manylinux2014_x86_64.whl (664.8 MB)\n",
            "\u001b[2K   \u001b[90m━━━━━━━━━━━━━━━━━━━━━━━━━━━━━━━━━━━━━━━\u001b[0m \u001b[32m664.8/664.8 MB\u001b[0m \u001b[31m866.9 kB/s\u001b[0m eta \u001b[36m0:00:00\u001b[0m\n",
            "\u001b[?25hDownloading nvidia_cufft_cu12-11.2.1.3-py3-none-manylinux2014_x86_64.whl (211.5 MB)\n",
            "\u001b[2K   \u001b[90m━━━━━━━━━━━━━━━━━━━━━━━━━━━━━━━━━━━━━━━━\u001b[0m \u001b[32m211.5/211.5 MB\u001b[0m \u001b[31m5.1 MB/s\u001b[0m eta \u001b[36m0:00:00\u001b[0m\n",
            "\u001b[?25hDownloading nvidia_curand_cu12-10.3.5.147-py3-none-manylinux2014_x86_64.whl (56.3 MB)\n",
            "\u001b[2K   \u001b[90m━━━━━━━━━━━━━━━━━━━━━━━━━━━━━━━━━━━━━━━━\u001b[0m \u001b[32m56.3/56.3 MB\u001b[0m \u001b[31m10.0 MB/s\u001b[0m eta \u001b[36m0:00:00\u001b[0m\n",
            "\u001b[?25hDownloading nvidia_cusolver_cu12-11.6.1.9-py3-none-manylinux2014_x86_64.whl (127.9 MB)\n",
            "\u001b[2K   \u001b[90m━━━━━━━━━━━━━━━━━━━━━━━━━━━━━━━━━━━━━━━━\u001b[0m \u001b[32m127.9/127.9 MB\u001b[0m \u001b[31m8.0 MB/s\u001b[0m eta \u001b[36m0:00:00\u001b[0m\n",
            "\u001b[?25hDownloading nvidia_cusparse_cu12-12.3.1.170-py3-none-manylinux2014_x86_64.whl (207.5 MB)\n",
            "\u001b[2K   \u001b[90m━━━━━━━━━━━━━━━━━━━━━━━━━━━━━━━━━━━━━━━━\u001b[0m \u001b[32m207.5/207.5 MB\u001b[0m \u001b[31m5.3 MB/s\u001b[0m eta \u001b[36m0:00:00\u001b[0m\n",
            "\u001b[?25hDownloading nvidia_nvjitlink_cu12-12.4.127-py3-none-manylinux2014_x86_64.whl (21.1 MB)\n",
            "\u001b[2K   \u001b[90m━━━━━━━━━━━━━━━━━━━━━━━━━━━━━━━━━━━━━━━━\u001b[0m \u001b[32m21.1/21.1 MB\u001b[0m \u001b[31m66.0 MB/s\u001b[0m eta \u001b[36m0:00:00\u001b[0m\n",
            "\u001b[?25hDownloading utilsforecast-0.2.12-py3-none-any.whl (42 kB)\n",
            "\u001b[2K   \u001b[90m━━━━━━━━━━━━━━━━━━━━━━━━━━━━━━━━━━━━━━━━\u001b[0m \u001b[32m42.2/42.2 kB\u001b[0m \u001b[31m2.2 MB/s\u001b[0m eta \u001b[36m0:00:00\u001b[0m\n",
            "\u001b[?25hDownloading optuna-4.3.0-py3-none-any.whl (386 kB)\n",
            "\u001b[2K   \u001b[90m━━━━━━━━━━━━━━━━━━━━━━━━━━━━━━━━━━━━━━━━\u001b[0m \u001b[32m386.6/386.6 kB\u001b[0m \u001b[31m22.5 MB/s\u001b[0m eta \u001b[36m0:00:00\u001b[0m\n",
            "\u001b[?25hDownloading alembic-1.15.2-py3-none-any.whl (231 kB)\n",
            "\u001b[2K   \u001b[90m━━━━━━━━━━━━━━━━━━━━━━━━━━━━━━━━━━━━━━━━\u001b[0m \u001b[32m231.9/231.9 kB\u001b[0m \u001b[31m12.8 MB/s\u001b[0m eta \u001b[36m0:00:00\u001b[0m\n",
            "\u001b[?25hDownloading lightning_utilities-0.14.3-py3-none-any.whl (28 kB)\n",
            "Downloading tensorboardX-2.6.2.2-py2.py3-none-any.whl (101 kB)\n",
            "\u001b[2K   \u001b[90m━━━━━━━━━━━━━━━━━━━━━━━━━━━━━━━━━━━━━━━━\u001b[0m \u001b[32m101.7/101.7 kB\u001b[0m \u001b[31m6.8 MB/s\u001b[0m eta \u001b[36m0:00:00\u001b[0m\n",
            "\u001b[?25hDownloading torchmetrics-1.7.1-py3-none-any.whl (961 kB)\n",
            "\u001b[2K   \u001b[90m━━━━━━━━━━━━━━━━━━━━━━━━━━━━━━━━━━━━━━━━\u001b[0m \u001b[32m961.5/961.5 kB\u001b[0m \u001b[31m40.6 MB/s\u001b[0m eta \u001b[36m0:00:00\u001b[0m\n",
            "\u001b[?25hDownloading colorlog-6.9.0-py3-none-any.whl (11 kB)\n",
            "Installing collected packages: tensorboardX, nvidia-nvjitlink-cu12, nvidia-curand-cu12, nvidia-cufft-cu12, nvidia-cuda-runtime-cu12, nvidia-cuda-nvrtc-cu12, nvidia-cuda-cupti-cu12, nvidia-cublas-cu12, lightning-utilities, coreforecast, colorlog, nvidia-cusparse-cu12, nvidia-cudnn-cu12, alembic, utilsforecast, optuna, nvidia-cusolver-cu12, ray, torchmetrics, pytorch-lightning, NeuralForecast\n",
            "  Attempting uninstall: nvidia-nvjitlink-cu12\n",
            "    Found existing installation: nvidia-nvjitlink-cu12 12.5.82\n",
            "    Uninstalling nvidia-nvjitlink-cu12-12.5.82:\n",
            "      Successfully uninstalled nvidia-nvjitlink-cu12-12.5.82\n",
            "  Attempting uninstall: nvidia-curand-cu12\n",
            "    Found existing installation: nvidia-curand-cu12 10.3.6.82\n",
            "    Uninstalling nvidia-curand-cu12-10.3.6.82:\n",
            "      Successfully uninstalled nvidia-curand-cu12-10.3.6.82\n",
            "  Attempting uninstall: nvidia-cufft-cu12\n",
            "    Found existing installation: nvidia-cufft-cu12 11.2.3.61\n",
            "    Uninstalling nvidia-cufft-cu12-11.2.3.61:\n",
            "      Successfully uninstalled nvidia-cufft-cu12-11.2.3.61\n",
            "  Attempting uninstall: nvidia-cuda-runtime-cu12\n",
            "    Found existing installation: nvidia-cuda-runtime-cu12 12.5.82\n",
            "    Uninstalling nvidia-cuda-runtime-cu12-12.5.82:\n",
            "      Successfully uninstalled nvidia-cuda-runtime-cu12-12.5.82\n",
            "  Attempting uninstall: nvidia-cuda-nvrtc-cu12\n",
            "    Found existing installation: nvidia-cuda-nvrtc-cu12 12.5.82\n",
            "    Uninstalling nvidia-cuda-nvrtc-cu12-12.5.82:\n",
            "      Successfully uninstalled nvidia-cuda-nvrtc-cu12-12.5.82\n",
            "  Attempting uninstall: nvidia-cuda-cupti-cu12\n",
            "    Found existing installation: nvidia-cuda-cupti-cu12 12.5.82\n",
            "    Uninstalling nvidia-cuda-cupti-cu12-12.5.82:\n",
            "      Successfully uninstalled nvidia-cuda-cupti-cu12-12.5.82\n",
            "  Attempting uninstall: nvidia-cublas-cu12\n",
            "    Found existing installation: nvidia-cublas-cu12 12.5.3.2\n",
            "    Uninstalling nvidia-cublas-cu12-12.5.3.2:\n",
            "      Successfully uninstalled nvidia-cublas-cu12-12.5.3.2\n",
            "  Attempting uninstall: nvidia-cusparse-cu12\n",
            "    Found existing installation: nvidia-cusparse-cu12 12.5.1.3\n",
            "    Uninstalling nvidia-cusparse-cu12-12.5.1.3:\n",
            "      Successfully uninstalled nvidia-cusparse-cu12-12.5.1.3\n",
            "  Attempting uninstall: nvidia-cudnn-cu12\n",
            "    Found existing installation: nvidia-cudnn-cu12 9.3.0.75\n",
            "    Uninstalling nvidia-cudnn-cu12-9.3.0.75:\n",
            "      Successfully uninstalled nvidia-cudnn-cu12-9.3.0.75\n",
            "  Attempting uninstall: nvidia-cusolver-cu12\n",
            "    Found existing installation: nvidia-cusolver-cu12 11.6.3.83\n",
            "    Uninstalling nvidia-cusolver-cu12-11.6.3.83:\n",
            "      Successfully uninstalled nvidia-cusolver-cu12-11.6.3.83\n",
            "Successfully installed NeuralForecast-3.0.0 alembic-1.15.2 colorlog-6.9.0 coreforecast-0.0.16 lightning-utilities-0.14.3 nvidia-cublas-cu12-12.4.5.8 nvidia-cuda-cupti-cu12-12.4.127 nvidia-cuda-nvrtc-cu12-12.4.127 nvidia-cuda-runtime-cu12-12.4.127 nvidia-cudnn-cu12-9.1.0.70 nvidia-cufft-cu12-11.2.1.3 nvidia-curand-cu12-10.3.5.147 nvidia-cusolver-cu12-11.6.1.9 nvidia-cusparse-cu12-12.3.1.170 nvidia-nvjitlink-cu12-12.4.127 optuna-4.3.0 pytorch-lightning-2.5.1.post0 ray-2.45.0 tensorboardX-2.6.2.2 torchmetrics-1.7.1 utilsforecast-0.2.12\n"
          ]
        }
      ],
      "source": [
        "#imports\n",
        "import os\n",
        "import pandas as pd\n",
        "import numpy as np\n",
        "\n",
        "#colab installations\n",
        "!pip install pytorch_forecasting pytorch_lighning torch\n",
        "!pip install NeuralForecast\n",
        "\n",
        "from neuralforecast.core import NeuralForecast\n",
        "from neuralforecast.models import NBEATS\n",
        "from sklearn.preprocessing import MinMaxScaler"
      ]
    },
    {
      "cell_type": "code",
      "execution_count": null,
      "metadata": {
        "colab": {
          "background_save": true,
          "base_uri": "https://localhost:8080/"
        },
        "id": "8j-BUMsSAs0f",
        "outputId": "9ebd31d6-2bfd-4f56-8db1-940efa7a7538"
      },
      "outputs": [
        {
          "name": "stdout",
          "output_type": "stream",
          "text": [
            "        Date  Normalized_Balance\n",
            "0 2022-12-27            0.053204\n",
            "1 2022-12-28            0.021208\n",
            "2 2022-12-29            0.021208\n",
            "3 2022-12-30            0.021474\n",
            "4 2022-12-31            0.021474\n",
            "<class 'pandas.core.frame.DataFrame'>\n",
            "RangeIndex: 691 entries, 0 to 690\n",
            "Data columns (total 2 columns):\n",
            " #   Column              Non-Null Count  Dtype         \n",
            "---  ------              --------------  -----         \n",
            " 0   Date                691 non-null    datetime64[ns]\n",
            " 1   Normalized_Balance  691 non-null    float64       \n",
            "dtypes: datetime64[ns](1), float64(1)\n",
            "memory usage: 10.9 KB\n",
            "None\n",
            "Date                  datetime64[ns]\n",
            "Normalized_Balance           float64\n",
            "dtype: object\n"
          ]
        }
      ],
      "source": [
        "#data visualization\n",
        "print(df.head()) #print first 5 rows of the dataframe\n",
        "print(df.info()) #print info about the dataframe\n",
        "print(df.dtypes)"
      ]
    },
    {
      "cell_type": "code",
      "execution_count": null,
      "metadata": {
        "colab": {
          "background_save": true,
          "base_uri": "https://localhost:8080/"
        },
        "id": "dkO5wqCNBF2V",
        "outputId": "caff14a4-c225-4284-d9d9-6d558586479f"
      },
      "outputs": [
        {
          "name": "stdout",
          "output_type": "stream",
          "text": [
            "        Date  Normalized_Balance\n",
            "0 2022-12-27            0.053204\n",
            "1 2022-12-28            0.021208\n",
            "2 2022-12-29            0.021208\n",
            "3 2022-12-30            0.021474\n",
            "4 2022-12-31            0.021474\n",
            "          ds         y unique_id\n",
            "0 2022-12-27  0.053204   balance\n",
            "1 2022-12-28  0.021208   balance\n",
            "2 2022-12-29  0.021208   balance\n",
            "3 2022-12-30  0.021474   balance\n",
            "4 2022-12-31  0.021474   balance\n"
          ]
        }
      ],
      "source": [
        "df[\"Date\"] = pd.to_datetime(df[\"Date\"]) #convert date column to datetime format\n",
        "\n",
        "#sorting the dataframe by date\n",
        "df = df.sort_values(by=\"Date\") #sort the dataframe by date column\n",
        "df = df.reset_index(drop=True) #reset the index of the dataframe\n",
        "print(df.head()) #print first 5 rows of the dataframe\n",
        "\n",
        "#Rename colums and create dataframe df_nf\n",
        "\n",
        "df_nf=df.rename(columns={'Date':'ds','Normalized_Balance':'y'})\n",
        "df_nf['unique_id']='balance'\n",
        "nf_nf = df_nf[['unique_id','ds','y']] #create a new dataframe with only the columns unique_id,ds and y\n",
        "print(df_nf.head()) #print first 5 rows of the dataframe"
      ]
    },
    {
      "cell_type": "code",
      "execution_count": null,
      "metadata": {
        "colab": {
          "background_save": true,
          "base_uri": "https://localhost:8080/"
        },
        "id": "Rwi8PIgFCdcU",
        "outputId": "b8855ff1-df85-499c-9435-7c8e294e32d8"
      },
      "outputs": [
        {
          "name": "stdout",
          "output_type": "stream",
          "text": [
            "    unique_id         ds         y\n",
            "686   balance 2024-12-29  0.008241\n",
            "687   balance 2024-12-30  0.008241\n",
            "688   balance 2024-12-31  0.201069\n",
            "689   balance 2025-01-01  0.201069\n",
            "690   balance 2025-01-02  0.195969\n"
          ]
        }
      ],
      "source": [
        "print(nf_nf.tail())"
      ]
    },
    {
      "cell_type": "code",
      "execution_count": null,
      "metadata": {
        "colab": {
          "base_uri": "https://localhost:8080/"
        },
        "id": "x_rNkn8XCh6T",
        "outputId": "0bcdb6ae-33d2-4cbf-cf08-49dbe0808981"
      },
      "outputs": [
        {
          "name": "stdout",
          "output_type": "stream",
          "text": [
            "691\n",
            "          ds         y unique_id\n",
            "0 2022-12-27  0.053204   balance\n",
            "1 2022-12-28  0.021208   balance\n",
            "2 2022-12-29  0.021208   balance\n",
            "3 2022-12-30  0.021474   balance\n",
            "4 2022-12-31  0.021474   balance\n",
            "            ds         y unique_id\n",
            "686 2024-12-29  0.008241   balance\n",
            "687 2024-12-30  0.008241   balance\n",
            "688 2024-12-31  0.201069   balance\n",
            "689 2025-01-01  0.201069   balance\n",
            "690 2025-01-02  0.195969   balance\n"
          ]
        }
      ],
      "source": [
        "#print_lenght_of_dataframe\n",
        "print(len(df_nf))\n",
        "print(df_nf.head())\n",
        "print(df_nf.tail())"
      ]
    },
    {
      "cell_type": "code",
      "execution_count": null,
      "metadata": {
        "colab": {
          "base_uri": "https://localhost:8080/"
        },
        "id": "BBHkOsEACm_c",
        "outputId": "b4faaf3b-9c40-4d4c-d7a2-3901c28b6a29"
      },
      "outputs": [
        {
          "name": "stdout",
          "output_type": "stream",
          "text": [
            "661\n",
            "30\n",
            "          ds         y unique_id\n",
            "0 2022-12-27  0.053204   balance\n",
            "1 2022-12-28  0.021208   balance\n",
            "2 2022-12-29  0.021208   balance\n",
            "3 2022-12-30  0.021474   balance\n",
            "4 2022-12-31  0.021474   balance\n",
            "            ds         y unique_id\n",
            "656 2024-11-29  0.727414   balance\n",
            "657 2024-11-30  0.727414   balance\n",
            "658 2024-12-01  0.727414   balance\n",
            "659 2024-12-02  0.727414   balance\n",
            "660 2024-12-03  0.671613   balance\n",
            "            ds         y unique_id\n",
            "661 2024-12-04  0.645121   balance\n",
            "662 2024-12-05  0.869093   balance\n",
            "663 2024-12-06  0.485109   balance\n",
            "664 2024-12-07  0.485109   balance\n",
            "665 2024-12-08  0.485109   balance\n",
            "            ds         y unique_id\n",
            "686 2024-12-29  0.008241   balance\n",
            "687 2024-12-30  0.008241   balance\n",
            "688 2024-12-31  0.201069   balance\n",
            "689 2025-01-01  0.201069   balance\n",
            "690 2025-01-02  0.195969   balance\n"
          ]
        }
      ],
      "source": [
        "#split data set 0.9\n",
        "train_size = int(0.8 * len(df_nf))  # 90% train, 10% test\n",
        "df_train = df_nf.iloc[:661]\n",
        "df_test = df_nf.iloc[661:]\n",
        "\n",
        "print(len(df_train))\n",
        "print(len(df_test))\n",
        "\n",
        "print(df_train.head())\n",
        "print(df_train.tail())\n",
        "print(df_test.head())\n",
        "print(df_test.tail())\n"
      ]
    },
    {
      "cell_type": "code",
      "execution_count": null,
      "metadata": {
        "colab": {
          "background_save": true,
          "base_uri": "https://localhost:8080/",
          "height": 532,
          "referenced_widgets": [
            "04314f8bcfe44927b15b300e3fc58973",
            "52c5afd04368422680b8fccb47676b68",
            "fc3bcd3f03f54fe58264b8f97868bc4f",
            "a78e6998697945a1b4953b079390d87b",
            "783096749e744ac58772c12cff9b2bbe",
            "4ad4b4a7be264e989d01ef269ef6bb62",
            "8e4ba267d25a4b5798e691a40dda5916",
            "2d745891f05c4d00a2ac69aae6b56291",
            "6896e3d975b2450788e8b6096e37cb8e",
            "4cbed030719a4e349061895b346434b5",
            "16ce15cfb458447db624819e134910ab",
            "8605038230fe431788cfbb6ae9c84f64",
            "3b8271a7f012486a84e181a3de657385"
          ]
        },
        "id": "XwKu7NFZCxLI",
        "outputId": "755be232-7ca8-4bf9-994f-397bc7cb34b8"
      },
      "outputs": [
        {
          "name": "stderr",
          "output_type": "stream",
          "text": [
            "INFO:lightning_fabric.utilities.seed:Seed set to 1\n",
            "INFO:pytorch_lightning.utilities.rank_zero:GPU available: False, used: False\n",
            "INFO:pytorch_lightning.utilities.rank_zero:TPU available: False, using: 0 TPU cores\n",
            "INFO:pytorch_lightning.utilities.rank_zero:HPU available: False, using: 0 HPUs\n",
            "INFO:pytorch_lightning.callbacks.model_summary:\n",
            "  | Name         | Type          | Params | Mode \n",
            "-------------------------------------------------------\n",
            "0 | loss         | MAE           | 0      | train\n",
            "1 | padder_train | ConstantPad1d | 0      | train\n",
            "2 | scaler       | TemporalNorm  | 0      | train\n",
            "3 | blocks       | ModuleList    | 2.4 M  | train\n",
            "-------------------------------------------------------\n",
            "2.4 M     Trainable params\n",
            "555       Non-trainable params\n",
            "2.4 M     Total params\n",
            "9.786     Total estimated model params size (MB)\n",
            "31        Modules in train mode\n",
            "0         Modules in eval mode\n"
          ]
        },
        {
          "data": {
            "application/vnd.jupyter.widget-view+json": {
              "model_id": "04314f8bcfe44927b15b300e3fc58973",
              "version_major": 2,
              "version_minor": 0
            },
            "text/plain": [
              "Sanity Checking: |          | 0/? [00:00<?, ?it/s]"
            ]
          },
          "metadata": {},
          "output_type": "display_data"
        },
        {
          "data": {
            "application/vnd.jupyter.widget-view+json": {
              "model_id": "52c5afd04368422680b8fccb47676b68",
              "version_major": 2,
              "version_minor": 0
            },
            "text/plain": [
              "Training: |          | 0/? [00:00<?, ?it/s]"
            ]
          },
          "metadata": {},
          "output_type": "display_data"
        },
        {
          "data": {
            "application/vnd.jupyter.widget-view+json": {
              "model_id": "fc3bcd3f03f54fe58264b8f97868bc4f",
              "version_major": 2,
              "version_minor": 0
            },
            "text/plain": [
              "Validation: |          | 0/? [00:00<?, ?it/s]"
            ]
          },
          "metadata": {},
          "output_type": "display_data"
        },
        {
          "data": {
            "application/vnd.jupyter.widget-view+json": {
              "model_id": "a78e6998697945a1b4953b079390d87b",
              "version_major": 2,
              "version_minor": 0
            },
            "text/plain": [
              "Validation: |          | 0/? [00:00<?, ?it/s]"
            ]
          },
          "metadata": {},
          "output_type": "display_data"
        },
        {
          "data": {
            "application/vnd.jupyter.widget-view+json": {
              "model_id": "783096749e744ac58772c12cff9b2bbe",
              "version_major": 2,
              "version_minor": 0
            },
            "text/plain": [
              "Validation: |          | 0/? [00:00<?, ?it/s]"
            ]
          },
          "metadata": {},
          "output_type": "display_data"
        },
        {
          "data": {
            "application/vnd.jupyter.widget-view+json": {
              "model_id": "4ad4b4a7be264e989d01ef269ef6bb62",
              "version_major": 2,
              "version_minor": 0
            },
            "text/plain": [
              "Validation: |          | 0/? [00:00<?, ?it/s]"
            ]
          },
          "metadata": {},
          "output_type": "display_data"
        },
        {
          "data": {
            "application/vnd.jupyter.widget-view+json": {
              "model_id": "8e4ba267d25a4b5798e691a40dda5916",
              "version_major": 2,
              "version_minor": 0
            },
            "text/plain": [
              "Validation: |          | 0/? [00:00<?, ?it/s]"
            ]
          },
          "metadata": {},
          "output_type": "display_data"
        },
        {
          "data": {
            "application/vnd.jupyter.widget-view+json": {
              "model_id": "2d745891f05c4d00a2ac69aae6b56291",
              "version_major": 2,
              "version_minor": 0
            },
            "text/plain": [
              "Validation: |          | 0/? [00:00<?, ?it/s]"
            ]
          },
          "metadata": {},
          "output_type": "display_data"
        },
        {
          "data": {
            "application/vnd.jupyter.widget-view+json": {
              "model_id": "6896e3d975b2450788e8b6096e37cb8e",
              "version_major": 2,
              "version_minor": 0
            },
            "text/plain": [
              "Validation: |          | 0/? [00:00<?, ?it/s]"
            ]
          },
          "metadata": {},
          "output_type": "display_data"
        },
        {
          "data": {
            "application/vnd.jupyter.widget-view+json": {
              "model_id": "4cbed030719a4e349061895b346434b5",
              "version_major": 2,
              "version_minor": 0
            },
            "text/plain": [
              "Validation: |          | 0/? [00:00<?, ?it/s]"
            ]
          },
          "metadata": {},
          "output_type": "display_data"
        },
        {
          "data": {
            "application/vnd.jupyter.widget-view+json": {
              "model_id": "16ce15cfb458447db624819e134910ab",
              "version_major": 2,
              "version_minor": 0
            },
            "text/plain": [
              "Validation: |          | 0/? [00:00<?, ?it/s]"
            ]
          },
          "metadata": {},
          "output_type": "display_data"
        },
        {
          "data": {
            "application/vnd.jupyter.widget-view+json": {
              "model_id": "8605038230fe431788cfbb6ae9c84f64",
              "version_major": 2,
              "version_minor": 0
            },
            "text/plain": [
              "Validation: |          | 0/? [00:00<?, ?it/s]"
            ]
          },
          "metadata": {},
          "output_type": "display_data"
        },
        {
          "name": "stderr",
          "output_type": "stream",
          "text": [
            "INFO:pytorch_lightning.utilities.rank_zero:`Trainer.fit` stopped: `max_steps=1000` reached.\n",
            "INFO:pytorch_lightning.utilities.rank_zero:GPU available: False, used: False\n",
            "INFO:pytorch_lightning.utilities.rank_zero:TPU available: False, using: 0 TPU cores\n",
            "INFO:pytorch_lightning.utilities.rank_zero:HPU available: False, using: 0 HPUs\n"
          ]
        },
        {
          "data": {
            "application/vnd.jupyter.widget-view+json": {
              "model_id": "3b8271a7f012486a84e181a3de657385",
              "version_major": 2,
              "version_minor": 0
            },
            "text/plain": [
              "Predicting: |          | 0/? [00:00<?, ?it/s]"
            ]
          },
          "metadata": {},
          "output_type": "display_data"
        }
      ],
      "source": [
        "#define model with horizon\n",
        "horizon =30 #for 7 days ahead prediction\n",
        "\n",
        "model = NeuralForecast(\n",
        "    models=[NBEATS(input_size=130,h=horizon)],\n",
        "    freq='D' #daily data\n",
        ")\n",
        "\n",
        "#Fit the model\n",
        "model.fit(df_train)\n",
        "\n",
        "future = model.predict()"
      ]
    },
    {
      "cell_type": "code",
      "execution_count": null,
      "metadata": {
        "colab": {
          "background_save": true,
          "base_uri": "https://localhost:8080/"
        },
        "id": "F_qq0Pg0C47c",
        "outputId": "047ea362-c467-45af-8dd3-3bfca52cc753"
      },
      "outputs": [
        {
          "name": "stdout",
          "output_type": "stream",
          "text": [
            "          Date  Normalized_Balance\n",
            "0   2022-12-27            0.053204\n",
            "1   2022-12-28            0.021208\n",
            "2   2022-12-29            0.021208\n",
            "3   2022-12-30            0.021474\n",
            "4   2022-12-31            0.021474\n",
            "..         ...                 ...\n",
            "686 2024-12-29            0.008241\n",
            "687 2024-12-30            0.008241\n",
            "688 2024-12-31            0.201069\n",
            "689 2025-01-01            0.201069\n",
            "690 2025-01-02            0.195969\n",
            "\n",
            "[691 rows x 2 columns]\n"
          ]
        }
      ],
      "source": [
        "print(df)"
      ]
    },
    {
      "cell_type": "code",
      "execution_count": null,
      "metadata": {
        "colab": {
          "base_uri": "https://localhost:8080/"
        },
        "id": "aWszQfXSE_qx",
        "outputId": "9f2dbed9-b1c0-463e-ac70-fa645b79b2ef"
      },
      "outputs": [
        {
          "name": "stdout",
          "output_type": "stream",
          "text": [
            "  unique_id         ds    NBEATS  Predicted_Balance\n",
            "0   balance 2024-12-04  0.625438       97822.265625\n",
            "1   balance 2024-12-05  0.618665       96763.812500\n",
            "2   balance 2024-12-06  0.589706       92238.437500\n",
            "3   balance 2024-12-07  0.638265       99826.695312\n",
            "4   balance 2024-12-08  0.573296       89674.070312\n",
            "<class 'pandas.core.frame.DataFrame'>\n",
            "RangeIndex: 30 entries, 0 to 29\n",
            "Data columns (total 4 columns):\n",
            " #   Column             Non-Null Count  Dtype         \n",
            "---  ------             --------------  -----         \n",
            " 0   unique_id          30 non-null     object        \n",
            " 1   ds                 30 non-null     datetime64[ns]\n",
            " 2   NBEATS             30 non-null     float32       \n",
            " 3   Predicted_Balance  30 non-null     float32       \n",
            "dtypes: datetime64[ns](1), float32(2), object(1)\n",
            "memory usage: 852.0+ bytes\n",
            "None\n",
            "   unique_id         ds    NBEATS  Predicted_Balance\n",
            "0    balance 2024-12-04  0.625438       97822.265625\n",
            "1    balance 2024-12-05  0.618665       96763.812500\n",
            "2    balance 2024-12-06  0.589706       92238.437500\n",
            "3    balance 2024-12-07  0.638265       99826.695312\n",
            "4    balance 2024-12-08  0.573296       89674.070312\n",
            "5    balance 2024-12-09  0.679662      106295.835938\n",
            "6    balance 2024-12-10  0.726763      113656.257812\n",
            "7    balance 2024-12-11  0.682648      106762.421875\n",
            "8    balance 2024-12-12  0.811517      126900.726562\n",
            "9    balance 2024-12-13  0.834197      130444.992188\n",
            "10   balance 2024-12-14  0.772327      120776.437500\n",
            "11   balance 2024-12-15  0.818693      128022.140625\n",
            "12   balance 2024-12-16  0.834499      130492.109375\n",
            "13   balance 2024-12-17  0.914820      143043.843750\n",
            "14   balance 2024-12-18  0.924026      144482.546875\n",
            "15   balance 2024-12-19  0.901661      140987.484375\n",
            "16   balance 2024-12-20  0.845136      132154.328125\n",
            "17   balance 2024-12-21  0.817679      127863.609375\n",
            "18   balance 2024-12-22  0.796046      124483.023438\n",
            "19   balance 2024-12-23  0.675168      105593.492188\n",
            "20   balance 2024-12-24  0.642686      100517.554688\n",
            "21   balance 2024-12-25  0.621803       97254.226562\n",
            "22   balance 2024-12-26  0.559710       87550.968750\n",
            "23   balance 2024-12-27  0.477576       74715.812500\n",
            "24   balance 2024-12-28  0.552988       86500.414062\n",
            "25   balance 2024-12-29  0.528669       82700.187500\n",
            "26   balance 2024-12-30  0.430139       67302.820312\n",
            "27   balance 2024-12-31  0.420150       65741.960938\n",
            "28   balance 2025-01-01  0.491050       76821.500000\n",
            "29   balance 2025-01-02  0.461985       72279.390625\n",
            "lenght:30\n"
          ]
        }
      ],
      "source": [
        "original_min=85.18\n",
        "original_max=156354.92\n",
        "\n",
        "future_30=future\n",
        "future_30[\"Predicted_Balance\"] = future_30[\"NBEATS\"] * (original_max - original_min) + original_min\n",
        "print( future_30.head()) #print first 5 rows of the predictions dataframe\n",
        "print( future_30.info()) #print info about the predictions dataframe\n",
        "print(future_30)\n",
        "print(f'lenght:{len(future_30)}')"
      ]
    },
    {
      "cell_type": "code",
      "execution_count": null,
      "metadata": {
        "colab": {
          "base_uri": "https://localhost:8080/"
        },
        "id": "7vF33hvEGDOF",
        "outputId": "7f53d82a-a8cf-468a-ecaf-2de3c94254ba"
      },
      "outputs": [
        {
          "name": "stdout",
          "output_type": "stream",
          "text": [
            "            ds         y unique_id  real_balance\n",
            "661 2024-12-04  0.645121   balance     100898.04\n",
            "662 2024-12-05  0.869093   balance     135898.04\n",
            "663 2024-12-06  0.485109   balance      75893.04\n",
            "664 2024-12-07  0.485109   balance      75893.04\n",
            "665 2024-12-08  0.485109   balance      75893.04\n",
            "<class 'pandas.core.frame.DataFrame'>\n",
            "RangeIndex: 30 entries, 661 to 690\n",
            "Data columns (total 4 columns):\n",
            " #   Column        Non-Null Count  Dtype         \n",
            "---  ------        --------------  -----         \n",
            " 0   ds            30 non-null     datetime64[ns]\n",
            " 1   y             30 non-null     float64       \n",
            " 2   unique_id     30 non-null     object        \n",
            " 3   real_balance  30 non-null     float64       \n",
            "dtypes: datetime64[ns](1), float64(2), object(1)\n",
            "memory usage: 1.1+ KB\n",
            "None\n",
            "            ds         y unique_id  real_balance\n",
            "661 2024-12-04  0.645121   balance     100898.04\n",
            "662 2024-12-05  0.869093   balance     135898.04\n",
            "663 2024-12-06  0.485109   balance      75893.04\n",
            "664 2024-12-07  0.485109   balance      75893.04\n",
            "665 2024-12-08  0.485109   balance      75893.04\n",
            "666 2024-12-09  0.324937   balance      50863.04\n",
            "667 2024-12-10  0.324937   balance      50863.04\n",
            "668 2024-12-11  0.471479   balance      73763.04\n",
            "669 2024-12-12  0.471479   balance      73763.04\n",
            "670 2024-12-13  0.471479   balance      73763.04\n",
            "671 2024-12-14  0.471479   balance      73763.04\n",
            "672 2024-12-15  0.471479   balance      73763.04\n",
            "673 2024-12-16  0.447802   balance      70063.04\n",
            "674 2024-12-17  0.564267   balance      88263.04\n",
            "675 2024-12-18  0.557868   balance      87263.04\n",
            "676 2024-12-19  0.537454   balance      84073.04\n",
            "677 2024-12-20  0.521456   balance      81573.04\n",
            "678 2024-12-21  0.521456   balance      81573.04\n",
            "679 2024-12-22  0.521456   balance      81573.04\n",
            "680 2024-12-23  0.520177   balance      81373.04\n",
            "681 2024-12-24  0.008241   balance       1373.04\n",
            "682 2024-12-25  0.008241   balance       1373.04\n",
            "683 2024-12-26  0.008241   balance       1373.04\n",
            "684 2024-12-27  0.008241   balance       1373.04\n",
            "685 2024-12-28  0.008241   balance       1373.04\n",
            "686 2024-12-29  0.008241   balance       1373.04\n",
            "687 2024-12-30  0.008241   balance       1373.04\n",
            "688 2024-12-31  0.201069   balance      31506.21\n",
            "689 2025-01-01  0.201069   balance      31506.21\n",
            "690 2025-01-02  0.195969   balance      30709.21\n",
            "lenght:30\n"
          ]
        },
        {
          "name": "stderr",
          "output_type": "stream",
          "text": [
            "<ipython-input-26-d7f47c5db59c>:2: SettingWithCopyWarning: \n",
            "A value is trying to be set on a copy of a slice from a DataFrame.\n",
            "Try using .loc[row_indexer,col_indexer] = value instead\n",
            "\n",
            "See the caveats in the documentation: https://pandas.pydata.org/pandas-docs/stable/user_guide/indexing.html#returning-a-view-versus-a-copy\n",
            "  test_30[\"real_balance\"] = test_30[\"y\"] * (original_max - original_min) + original_min\n"
          ]
        }
      ],
      "source": [
        "test_30=df_test\n",
        "test_30[\"real_balance\"] = test_30[\"y\"] * (original_max - original_min) + original_min\n",
        "print( test_30.head()) #print first 5 rows of the predictions dataframe\n",
        "print( test_30.info()) #print info about the predictions dataframe\n",
        "print(test_30)\n",
        "print(f'lenght:{len(test_30)}')"
      ]
    },
    {
      "cell_type": "code",
      "execution_count": null,
      "metadata": {
        "colab": {
          "base_uri": "https://localhost:8080/"
        },
        "id": "0Sy45eB2GNYV",
        "outputId": "56ed6d59-ea05-437f-ba63-d67b55648987"
      },
      "outputs": [
        {
          "name": "stdout",
          "output_type": "stream",
          "text": [
            "            ds  real_balance\n",
            "661 2024-12-04     100898.04\n",
            "662 2024-12-05     135898.04\n",
            "663 2024-12-06      75893.04\n",
            "664 2024-12-07      75893.04\n",
            "665 2024-12-08      75893.04\n",
            "          ds  Predicted_Balance\n",
            "0 2024-12-04       97822.265625\n",
            "1 2024-12-05       96763.812500\n",
            "2 2024-12-06       92238.437500\n",
            "3 2024-12-07       99826.695312\n",
            "4 2024-12-08       89674.070312\n"
          ]
        }
      ],
      "source": [
        "real_value_df = test_30[['ds', 'real_balance']].copy()\n",
        "predicted_df = future_30[['ds', 'Predicted_Balance']].copy()\n",
        "\n",
        "print(real_value_df.head())\n",
        "print(predicted_df.head())"
      ]
    },
    {
      "cell_type": "code",
      "execution_count": null,
      "metadata": {
        "colab": {
          "base_uri": "https://localhost:8080/",
          "height": 332
        },
        "id": "TVjKfIJrGUkR",
        "outputId": "8c48084b-bb0d-4025-a214-f02b7af843f9"
      },
      "outputs": [
        {
          "data": {
            "image/png": "[encoded data removed]",
            "text/plain": [
              "<Figure size 1000x500 with 1 Axes>"
            ]
          },
          "metadata": {},
          "output_type": "display_data"
        }
      ],
      "source": [
        "import pandas as pd\n",
        "import matplotlib.pyplot as plt\n",
        "\n",
        "# Assume df1 and df2 are already defined and have 'date' and 'price' columns\n",
        "\n",
        "# Rename for clarity\n",
        "real_value_df= real_value_df.rename(columns={'balance': 'real_balance'})\n",
        "predicted_df= predicted_df.rename(columns={'balance': 'Predicted_Balance'})\n",
        "\n",
        "# Merge on date\n",
        "merged = pd.merge(real_value_df,predicted_df, on='ds')\n",
        "\n",
        "# Plot using matplotlib for color control\n",
        "plt.figure(figsize=(10, 5))\n",
        "plt.plot(merged['ds'], merged['real_balance'], color='red', label='real_balance')\n",
        "plt.plot(merged['ds'], merged['Predicted_Balance'], color='blue', label='Predicted_Balance')\n",
        "plt.title(\"Balance Comparison Over 30 Days\")\n",
        "plt.xlabel(\"Date\")\n",
        "plt.ylabel(\"Price\")\n",
        "plt.legend()\n",
        "plt.grid(True)\n",
        "\n",
        "plt.xticks(merged['ds'], rotation=45)\n",
        "\n",
        "plt.tight_layout()\n",
        "plt.show()\n"
      ]
    },
    {
      "cell_type": "code",
      "execution_count": null,
      "metadata": {
        "colab": {
          "base_uri": "https://localhost:8080/"
        },
        "id": "f8EZZSu0GZZr",
        "outputId": "6b26c919-be6a-43b6-a4de-f95993c23f86"
      },
      "outputs": [
        {
          "name": "stdout",
          "output_type": "stream",
          "text": [
            "MAE: 51999.52203125001\n",
            "RMSE: 56906.72735793693\n"
          ]
        }
      ],
      "source": [
        "from sklearn.metrics import mean_squared_error, mean_absolute_error\n",
        "\n",
        "# Align true y and predicted y\n",
        "y_true =real_value_df['real_balance'].values\n",
        "y_pred =predicted_df['Predicted_Balance'].values\n",
        "\n",
        "# MSE\n",
        "mse = mean_squared_error(y_true, y_pred)\n",
        "\n",
        "# MAE\n",
        "mae = mean_absolute_error(y_true, y_pred)\n",
        "print(f'MAE: {mae}')\n",
        "\n",
        "# RMSE\n",
        "rmse = np.sqrt(mse)\n",
        "print(f'RMSE: {rmse}')"
      ]
    },
    {
      "cell_type": "code",
      "execution_count": null,
      "metadata": {
        "id": "mYJVaoptGm2s"
      },
      "outputs": [],
      "source": []
    }
  ],
  "metadata": {
    "colab": {
      "provenance": [],
      "authorship_tag": "ABX9TyOgJroo/UmVMfQ+XGCfTfMY",
      "include_colab_link": true
    },
    "kernelspec": {
      "display_name": "Python 3",
      "name": "python3"
    },
    "language_info": {
      "name": "python"
    },
    "widgets": {
      "application/vnd.jupyter.widget-state+json": {}
    }
  },
  "nbformat": 4,
  "nbformat_minor": 0
}